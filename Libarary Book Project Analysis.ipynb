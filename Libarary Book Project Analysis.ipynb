{
 "cells": [
  {
   "cell_type": "code",
   "execution_count": null,
   "id": "187b629d-cc22-45b3-9277-07b09dfb3fd2",
   "metadata": {},
   "outputs": [
    {
     "name": "stdout",
     "output_type": "stream",
     "text": [
      "\n",
      "press 1 to borrow\n",
      "press 2 to return\n"
     ]
    },
    {
     "name": "stdin",
     "output_type": "stream",
     "text": [
      "enter your choice between 1 and 2:  1\n",
      "enter name:  puneet\n",
      "enter book name:  english\n",
      "add more books:  no\n"
     ]
    },
    {
     "name": "stdout",
     "output_type": "stream",
     "text": [
      "{'Puneet': ['English']}\n",
      "{'Math': 20, 'Physics': 15, 'English': 0}\n"
     ]
    },
    {
     "name": "stdin",
     "output_type": "stream",
     "text": [
      "enter your choice between 1 and 2:  1\n",
      "enter name:  anu\n",
      "enter book name:  english\n"
     ]
    },
    {
     "name": "stdout",
     "output_type": "stream",
     "text": [
      "book is not available currently\n"
     ]
    },
    {
     "name": "stdin",
     "output_type": "stream",
     "text": [
      "enter book name:  math\n",
      "add more books:  no\n"
     ]
    },
    {
     "name": "stdout",
     "output_type": "stream",
     "text": [
      "{'Puneet': ['English'], 'Anu': ['Math']}\n",
      "{'Math': 19, 'Physics': 15, 'English': 0}\n"
     ]
    },
    {
     "name": "stdin",
     "output_type": "stream",
     "text": [
      "enter your choice between 1 and 2:  1\n",
      "enter name:  puneet\n"
     ]
    },
    {
     "name": "stdout",
     "output_type": "stream",
     "text": [
      "this name already exists\n"
     ]
    }
   ],
   "source": [
    "books = {\"Math\":20,\"Physics\":15,\"English\":1}\n",
    "bb = {}\n",
    "\n",
    "print(\"\"\"\n",
    "press 1 to borrow\n",
    "press 2 to return\"\"\")\n",
    "\n",
    "while True:\n",
    "    choice = int(input(\"enter your choice between 1 and 2: \"))\n",
    "    \n",
    "    if choice == 1:\n",
    "        Name = input('enter name: ').title()\n",
    "        if Name in bb.keys():\n",
    "            print(\"this name already exists\")\n",
    "        else:\n",
    "            n_books = []\n",
    "            while True:\n",
    "                book = input('enter book name: ').title()\n",
    "                if books[book] >0:\n",
    "                    books[book]-=1\n",
    "                    n_books.append(book)\n",
    "                    bb[Name] = n_books\n",
    "                    repeat = input(\"add more books: \").title()\n",
    "                    if repeat == \"No\":\n",
    "                        break\n",
    "                else:\n",
    "                    print(\"book is not available currently\")\n",
    "    \n",
    "            print(bb)\n",
    "            print(books)\n",
    "\n",
    "    elif choice == 2:\n",
    "        Name = input('enter name: ').title()\n",
    "        book = input('enter book name: ').title()\n",
    "\n",
    "        books[book]+=1\n",
    "        del bb[Name]\n",
    "        print(\"you have successfully returned the book\")\n",
    "\n",
    "        print(bb)\n",
    "        print(books)\n",
    "        \n",
    "            \n",
    "    \n",
    "        \n"
   ]
  },
  {
   "cell_type": "code",
   "execution_count": null,
   "id": "54878ad7-7989-46e5-8b45-b41efc710c0f",
   "metadata": {},
   "outputs": [],
   "source": []
  }
 ],
 "metadata": {
  "kernelspec": {
   "display_name": "Python 3 (ipykernel)",
   "language": "python",
   "name": "python3"
  },
  "language_info": {
   "codemirror_mode": {
    "name": "ipython",
    "version": 3
   },
   "file_extension": ".py",
   "mimetype": "text/x-python",
   "name": "python",
   "nbconvert_exporter": "python",
   "pygments_lexer": "ipython3",
   "version": "3.11.5"
  }
 },
 "nbformat": 4,
 "nbformat_minor": 5
}
