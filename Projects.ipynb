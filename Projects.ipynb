{
 "cells": [
  {
   "cell_type": "markdown",
   "id": "3cd384a1-0ee6-42bc-a539-ae9880e2c8ec",
   "metadata": {},
   "source": [
    "## Ticket Booking System - Project"
   ]
  },
  {
   "cell_type": "code",
   "execution_count": null,
   "id": "4feae0a3-222f-470a-b25b-96385e0d4889",
   "metadata": {},
   "outputs": [
    {
     "name": "stdin",
     "output_type": "stream",
     "text": [
      "enter name:  ayushi\n"
     ]
    },
    {
     "name": "stdout",
     "output_type": "stream",
     "text": [
      "\n",
      "    we have two types of seats\n",
      "    1. norml - price 250\n",
      "    2. recliner - price = 500\n"
     ]
    },
    {
     "name": "stdin",
     "output_type": "stream",
     "text": [
      "enter choice:  1\n",
      "enter number of seats:  3\n"
     ]
    },
    {
     "name": "stdout",
     "output_type": "stream",
     "text": [
      "your amount so far is 750\n"
     ]
    },
    {
     "name": "stdin",
     "output_type": "stream",
     "text": [
      "DO YOU WANT A COMBO:   no\n"
     ]
    },
    {
     "name": "stdout",
     "output_type": "stream",
     "text": [
      "bill 750\n"
     ]
    },
    {
     "name": "stdin",
     "output_type": "stream",
     "text": [
      "repeat again?  yes\n",
      "enter name:  ayushi\n"
     ]
    },
    {
     "name": "stdout",
     "output_type": "stream",
     "text": [
      "\n",
      "    we have two types of seats\n",
      "    1. norml - price 250\n",
      "    2. recliner - price = 500\n"
     ]
    },
    {
     "name": "stdin",
     "output_type": "stream",
     "text": [
      "enter choice:  2\n",
      "enter number of seats:  2\n"
     ]
    },
    {
     "name": "stdout",
     "output_type": "stream",
     "text": [
      "your amount so far is 1000\n"
     ]
    },
    {
     "name": "stdin",
     "output_type": "stream",
     "text": [
      "DO YOU WANT A COMBO:   no\n"
     ]
    },
    {
     "name": "stdout",
     "output_type": "stream",
     "text": [
      "bill 1000\n"
     ]
    }
   ],
   "source": [
    "n_seats = 120\n",
    "r_seats = 12\n",
    "n_price = 250\n",
    "r_price = 500\n",
    "c1 = 100\n",
    "c2 = 200\n",
    "c3 = 300\n",
    "\n",
    "while True:\n",
    "    name = input(\"enter name: \")\n",
    "    total = 0\n",
    "    print(\"\"\"\n",
    "    we have two types of seats\n",
    "    1. norml - price 250\n",
    "    2. recliner - price = 500\"\"\")\n",
    "    choice = int(input(\"enter choice: \"))\n",
    "    \n",
    "    if choice == 1:\n",
    "        seats = int(input('enter number of seats: '))\n",
    "        if seats > n_seats:\n",
    "            print(\"the available seats normal seats are\", n_seats)\n",
    "            print(\"the available recliner seats are\", r_seats)\n",
    "        else:\n",
    "            total = seats * n_price\n",
    "            print(\"your amount so far is\", total)\n",
    "\n",
    "            combo = input('DO YOU WANT A COMBO:  ')\n",
    "            if combo ==\"yes\":\n",
    "                print(\"\"\"\n",
    "                press 1 for 100rs combo\n",
    "                press 2 for 200rs combo\n",
    "                press 3 for 300rs combo\"\"\")\n",
    "                \n",
    "                combo = int(input('enter your choice: '))\n",
    "                if combo == 1:\n",
    "                    total += 100\n",
    "                elif combo == 2:\n",
    "                    total +=200\n",
    "                elif combo == 3:\n",
    "                    total += 300\n",
    "      \n",
    "                \n",
    "    if choice == 2:\n",
    "            seats = int(input('enter number of seats: '))\n",
    "            if seats > r_seats:\n",
    "                print(\"the available seats normal seats are\", n_seats)\n",
    "                print(\"the available recliner seats are\", r_seats)\n",
    "            else:\n",
    "                total = seats * r_price\n",
    "                print(\"your amount so far is\", total)\n",
    "    \n",
    "                combo = input('DO YOU WANT A COMBO:  ')\n",
    "                if combo ==\"yes\":\n",
    "                    print(\"\"\"\n",
    "                    press 1 for 100rs combo\n",
    "                    press 2 for 200rs combo\n",
    "                    press 3 for 300rs combo\"\"\")\n",
    "                    \n",
    "                    combo = int(input('enter your choice: '))\n",
    "                    if combo == 1:\n",
    "                        total += 100\n",
    "                    elif combo == 2:\n",
    "                        total +=200\n",
    "                    elif combo == 3:\n",
    "                        total += 300\n",
    "                \n",
    "                    \n",
    "\n",
    "    \n",
    "    print(\"bill\", total)\n",
    "    repeat = input(\"repeat again? \")\n",
    "    if repeat == \"no\":\n",
    "        break"
   ]
  }
 ],
 "metadata": {
  "kernelspec": {
   "display_name": "Python 3 (ipykernel)",
   "language": "python",
   "name": "python3"
  },
  "language_info": {
   "codemirror_mode": {
    "name": "ipython",
    "version": 3
   },
   "file_extension": ".py",
   "mimetype": "text/x-python",
   "name": "python",
   "nbconvert_exporter": "python",
   "pygments_lexer": "ipython3",
   "version": "3.11.5"
  }
 },
 "nbformat": 4,
 "nbformat_minor": 5
}
